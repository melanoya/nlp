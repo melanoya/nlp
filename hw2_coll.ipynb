{
 "cells": [
  {
   "cell_type": "markdown",
   "metadata": {},
   "source": [
    "# Домашнее задание №2: выделение коллокаций"
   ]
  },
  {
   "cell_type": "code",
   "execution_count": 32,
   "metadata": {
    "collapsed": true
   },
   "outputs": [],
   "source": [
    "import re\n",
    "import nltk\n",
    "from nltk.collocations import *\n",
    "from nltk.tokenize import word_tokenize\n",
    "from nltk.metrics.spearman import *"
   ]
  },
  {
   "cell_type": "code",
   "execution_count": 2,
   "metadata": {
    "collapsed": true
   },
   "outputs": [],
   "source": [
    "bigram_measures = nltk.collocations.BigramAssocMeasures()\n",
    "trigram_measures = nltk.collocations.TrigramAssocMeasures()"
   ]
  },
  {
   "cell_type": "markdown",
   "metadata": {},
   "source": [
    "предобрабтка корпуса"
   ]
  },
  {
   "cell_type": "code",
   "execution_count": 12,
   "metadata": {
    "collapsed": false
   },
   "outputs": [],
   "source": [
    "docs = []\n",
    "court_docs = open('court-V-N.csv', 'r', encoding='utf-8').read().split('\\n')\n",
    "for doc in court_docs:\n",
    "    doc = re.sub(',', '', doc)\n",
    "    doc = word_tokenize(doc)\n",
    "    docs.append(doc)"
   ]
  },
  {
   "cell_type": "markdown",
   "metadata": {},
   "source": [
    "тепреь найдем коллокации"
   ]
  },
  {
   "cell_type": "code",
   "execution_count": 15,
   "metadata": {
    "collapsed": true
   },
   "outputs": [],
   "source": [
    "tr_finder = TrigramCollocationFinder.from_documents(docs)"
   ]
  },
  {
   "cell_type": "code",
   "execution_count": 27,
   "metadata": {
    "collapsed": false
   },
   "outputs": [
    {
     "data": {
      "text/plain": [
       "[('СУД', 'СОГЛАСИТЬСЯ', 'СУД'),\n",
       " ('СУД', 'ПЕРЕДАТЬ', 'СУД'),\n",
       " ('СУД', 'ПОЙТИ', 'СУД'),\n",
       " ('СУД', 'ПРИЗНАТЬ', 'РЕШЕНИЕ'),\n",
       " ('СУД', 'УДОВЛЕТВОРИТЬ', 'ИСК'),\n",
       " ('СУД', 'ПРИЗНАТЬ', 'ВИНОВНАЯ'),\n",
       " ('СУД', 'УДОВЛЕТВОРИТЬ', 'ХОДАТАЙСТВО'),\n",
       " ('СУД', 'ПРИНЯТЬ', 'РЕШЕНИЕ'),\n",
       " ('СУД', 'ПРИЗНАТЬ', 'ПРАВОТА'),\n",
       " ('ВЫДАТЬ', 'САНКЦИЯ', 'АРЕСТ')]"
      ]
     },
     "execution_count": 27,
     "metadata": {},
     "output_type": "execute_result"
    }
   ],
   "source": [
    "tr_likl = tr_finder.nbest(trigram_measures.likelihood_ratio, 10)\n",
    "tr_likl"
   ]
  },
  {
   "cell_type": "code",
   "execution_count": 28,
   "metadata": {
    "collapsed": false
   },
   "outputs": [
    {
     "data": {
      "text/plain": [
       "[('СУД', 'УДОВЛЕТВОРИТЬ', 'ИСК'),\n",
       " ('СУД', 'ПРИНЯТЬ', 'РЕШЕНИЕ'),\n",
       " ('СУД', 'УДОВЛЕТВОРИТЬ', 'ХОДАТАЙСТВО'),\n",
       " ('СУД', 'ВЫДАТЬ', 'САНКЦИЯ'),\n",
       " ('СУД', 'ПРИЗНАТЬ', 'ВИНОВНАЯ'),\n",
       " ('СУД', 'ВЫНЕСТИ', 'РЕШЕНИЕ'),\n",
       " ('ВЫДАТЬ', 'САНКЦИЯ', 'АРЕСТ'),\n",
       " ('СУД', 'НАЛОЖИТЬ', 'АРЕСТ'),\n",
       " ('СУД', 'САНКЦИОНИРОВАТЬ', 'АРЕСТ'),\n",
       " ('СУД', 'ОТКАЗАТЬ', 'УДОВЛЕТВОРЕНИЕ')]"
      ]
     },
     "execution_count": 28,
     "metadata": {},
     "output_type": "execute_result"
    }
   ],
   "source": [
    "tr_st = tr_finder.nbest(trigram_measures.student_t, 10)\n",
    "tr_st"
   ]
  },
  {
   "cell_type": "code",
   "execution_count": 29,
   "metadata": {
    "collapsed": false
   },
   "outputs": [
    {
     "data": {
      "text/plain": [
       "[('АРМИЯ', 'ВОССТАНОВИТЬСЯ', 'ИНСТИТУТ'),\n",
       " ('АССОЦИИРОВАТЬСЬ', 'БОЛЬШОЙ', 'ПОЛИТИКА'),\n",
       " ('БЫТНОСТЬ', 'МИНИСТР', 'ПОДЧИНЕННЫЙ'),\n",
       " ('ВРАГ', 'НАРОД', 'КОЛЛАЖ'),\n",
       " ('ДЕКАБРЬ', 'ПОТОМ', 'ВООБЩЕ'),\n",
       " ('ДЕСЯТКА', 'КОРРУМПИРОВАТЬ', 'МИРОВОЙ'),\n",
       " ('ДОКЛАД', 'ПАРЛАМЕНТСКИЙ', 'АССАМБЛЕЯ'),\n",
       " ('ЗВАНИЕ', 'ЗАСЛУЖЕННЫЙ', 'МАШИНОСТРОИТЕЛЬ'),\n",
       " ('ИНВАЛИД', 'ДЕНЬГА', 'УДЕРЖАТЬ'),\n",
       " ('КАСЬЯНОВ', 'ДОБРОСОВЕСТНЫЙ', 'ПРИОБРЕТАТЕЛЬ')]"
      ]
     },
     "execution_count": 29,
     "metadata": {},
     "output_type": "execute_result"
    }
   ],
   "source": [
    "tr_chi = tr_finder.nbest(trigram_measures.chi_sq, 10)\n",
    "tr_chi"
   ]
  },
  {
   "cell_type": "code",
   "execution_count": 30,
   "metadata": {
    "collapsed": false
   },
   "outputs": [
    {
     "data": {
      "text/plain": [
       "[('АРМИЯ', 'ВОССТАНОВИТЬСЯ', 'ИНСТИТУТ'),\n",
       " ('АССОЦИИРОВАТЬСЬ', 'БОЛЬШОЙ', 'ПОЛИТИКА'),\n",
       " ('БЫТНОСТЬ', 'МИНИСТР', 'ПОДЧИНЕННЫЙ'),\n",
       " ('ВРАГ', 'НАРОД', 'КОЛЛАЖ'),\n",
       " ('ДЕКАБРЬ', 'ПОТОМ', 'ВООБЩЕ'),\n",
       " ('ДЕСЯТКА', 'КОРРУМПИРОВАТЬ', 'МИРОВОЙ'),\n",
       " ('ДОКЛАД', 'ПАРЛАМЕНТСКИЙ', 'АССАМБЛЕЯ'),\n",
       " ('ЗВАНИЕ', 'ЗАСЛУЖЕННЫЙ', 'МАШИНОСТРОИТЕЛЬ'),\n",
       " ('ИНВАЛИД', 'ДЕНЬГА', 'УДЕРЖАТЬ'),\n",
       " ('КАСЬЯНОВ', 'ДОБРОСОВЕСТНЫЙ', 'ПРИОБРЕТАТЕЛЬ')]"
      ]
     },
     "execution_count": 30,
     "metadata": {},
     "output_type": "execute_result"
    }
   ],
   "source": [
    "tr_pmi = tr_finder.nbest(trigram_measures.pmi, 10)\n",
    "tr_pmi"
   ]
  },
  {
   "cell_type": "markdown",
   "metadata": {},
   "source": [
    "видим, что самые лучшие метрики student_t и likelihood_ratio, student_t даже лучше"
   ]
  },
  {
   "cell_type": "markdown",
   "metadata": {},
   "source": [
    "загружаем золотой стандарт"
   ]
  },
  {
   "cell_type": "code",
   "execution_count": 42,
   "metadata": {
    "collapsed": false
   },
   "outputs": [
    {
     "name": "stdout",
     "output_type": "stream",
     "text": [
      "[['СУД', 'ПРИЗНАТЬ', 'ВИНОВНАЯ'], ['СУД', 'УДОВЛЕТВОРИТЬ', 'ИСК'], ['СУД', 'ОТКЛОНИТЬ', 'ИСК'], ['СУД', 'ПОДАТЬ', 'ИСК'], ['СУД', 'УДОВЛЕТВОРИТЬ', 'ЖАЛОБА'], ['СУД', 'ОТМЕНИТЬ', 'УКАЗ'], ['СУД', 'ПРОДЛИТЬ', 'СРОК'], ['СУД', 'РАССМОТРЕТЬ', 'АПЕЛЛЯЦИЯ'], ['СУД', 'ВОЗОБНОВИТЬ', 'СЛУШАНИЕ'], ['СУД', 'ПРОВЕСТИ', 'СЛУШАНИЕ']]\n"
     ]
    }
   ],
   "source": [
    "gold = []\n",
    "g = open('gold_court.txt', 'r', encoding='utf-8').read().split('\\n')\n",
    "for doc in g:\n",
    "    doc = re.sub('\\ufeff', '', doc)\n",
    "    doc = doc.split(',')\n",
    "    gold.append(doc)\n",
    "print(gold)"
   ]
  },
  {
   "cell_type": "markdown",
   "metadata": {},
   "source": [
    "теперь я сравниваю золотой стандарт и nbest"
   ]
  },
  {
   "cell_type": "code",
   "execution_count": 43,
   "metadata": {
    "collapsed": true
   },
   "outputs": [],
   "source": [
    "def normalize(arr):\n",
    "    new_arr = [' '.join(line) for line in arr]\n",
    "    return new_arr"
   ]
  },
  {
   "cell_type": "code",
   "execution_count": 55,
   "metadata": {
    "collapsed": false
   },
   "outputs": [
    {
     "name": "stdout",
     "output_type": "stream",
     "text": [
      "-16.0\n"
     ]
    }
   ],
   "source": [
    "print('%0.1f' % spearman_correlation(ranks_from_sequence(normalize(gold)), ranks_from_sequence(normalize(tr_st))))"
   ]
  },
  {
   "cell_type": "code",
   "execution_count": 59,
   "metadata": {
    "collapsed": false
   },
   "outputs": [
    {
     "name": "stdout",
     "output_type": "stream",
     "text": [
      "-33.0\n"
     ]
    }
   ],
   "source": [
    "print('%0.1f' % spearman_correlation(ranks_from_sequence(normalize(gold)), ranks_from_sequence(normalize(tr_likl))))"
   ]
  },
  {
   "cell_type": "markdown",
   "metadata": {},
   "source": [
    "В результате, я посчитала коллокации (триграммы) при помощи всех возможных характеристик и на взгляд мне больше всего понравились student_t и likelihood_ratio. Потом я посчитала ранговый коэффициент корреляции Спирмена между 10 лучшими результатами(student_t/likelihood_ratio) и золотым стандартом. "
   ]
  }
 ],
 "metadata": {
  "kernelspec": {
   "display_name": "Python 3",
   "language": "python",
   "name": "python3"
  },
  "language_info": {
   "codemirror_mode": {
    "name": "ipython",
    "version": 3
   },
   "file_extension": ".py",
   "mimetype": "text/x-python",
   "name": "python",
   "nbconvert_exporter": "python",
   "pygments_lexer": "ipython3",
   "version": "3.5.2"
  }
 },
 "nbformat": 4,
 "nbformat_minor": 2
}
