{
 "cells": [
  {
   "cell_type": "markdown",
   "metadata": {},
   "source": [
    "# Домашняя работа №1\n",
    "## Классификатор для автоматического определения языка текста"
   ]
  },
  {
   "cell_type": "code",
   "execution_count": 1,
   "metadata": {
    "collapsed": true
   },
   "outputs": [],
   "source": [
    "import wikipedia as wiki"
   ]
  },
  {
   "cell_type": "markdown",
   "metadata": {},
   "source": [
    "### 0. Скачивание тестов"
   ]
  },
  {
   "cell_type": "code",
   "execution_count": 2,
   "metadata": {
    "collapsed": true
   },
   "outputs": [],
   "source": [
    "# en, simple, la, id\n",
    "def extract_wiki_content(lang):\n",
    "    wiki.set_lang(lang)\n",
    "    wiki_pages = wiki.random(pages=200)\n",
    "    arr = []\n",
    "    for wiki_page in wiki_pages:\n",
    "        try:\n",
    "            arr.append(wiki.page(wiki_page).content)\n",
    "        except:\n",
    "            continue\n",
    "    return arr"
   ]
  },
  {
   "cell_type": "markdown",
   "metadata": {},
   "source": [
    "английские статьи, \n",
    "статьи на упрощенном английском,\n",
    "статьи на латинском,\n",
    "статьи на индонезийском"
   ]
  },
  {
   "cell_type": "code",
   "execution_count": 3,
   "metadata": {},
   "outputs": [
    {
     "name": "stderr",
     "output_type": "stream",
     "text": [
      "/usr/local/lib/python3.5/dist-packages/bs4/__init__.py:181: UserWarning: No parser was explicitly specified, so I'm using the best available HTML parser for this system (\"lxml\"). This usually isn't a problem, but if you run this code on another system, or in a different virtual environment, it may use a different parser and behave differently.\n",
      "\n",
      "The code that caused this warning is on line 184 of the file /usr/lib/python3.5/runpy.py. To get rid of this warning, change code that looks like this:\n",
      "\n",
      " BeautifulSoup(YOUR_MARKUP})\n",
      "\n",
      "to this:\n",
      "\n",
      " BeautifulSoup(YOUR_MARKUP, \"lxml\")\n",
      "\n",
      "  markup_type=markup_type))\n"
     ]
    }
   ],
   "source": [
    "en_arr = extract_wiki_content('en')\n",
    "simple_arr = extract_wiki_content('simple')\n",
    "la_arr = extract_wiki_content('la')\n",
    "id_arr = extract_wiki_content('id')"
   ]
  },
  {
   "cell_type": "code",
   "execution_count": 5,
   "metadata": {},
   "outputs": [],
   "source": [
    "en = open('en_arr.txt', 'w') \n",
    "en.write(str(en_arr)) \n",
    "en.close()\n",
    "\n",
    "simple = open('simple_arr.txt', 'w') \n",
    "simple.write(str(simple_arr)) \n",
    "simple.close()\n",
    "\n",
    "la = open('la_arr.txt', 'w') \n",
    "la.write(str(la_arr)) \n",
    "la.close()\n",
    "\n",
    "idd = open('id_arr.txt', 'w') \n",
    "idd.write(str(id_arr)) \n",
    "idd.close()"
   ]
  },
  {
   "cell_type": "code",
   "execution_count": null,
   "metadata": {
    "collapsed": true
   },
   "outputs": [],
   "source": [
    "en = open('en_arr.txt', 'r') \n",
    "simple = open('simple_arr.txt', 'r') \n",
    "la = open('la_arr.txt', 'r') \n",
    "idd = open('id_arr.txt', 'r') "
   ]
  }
 ],
 "metadata": {
  "kernelspec": {
   "display_name": "Python 3",
   "language": "python",
   "name": "python3"
  },
  "language_info": {
   "codemirror_mode": {
    "name": "ipython",
    "version": 3
   },
   "file_extension": ".py",
   "mimetype": "text/x-python",
   "name": "python",
   "nbconvert_exporter": "python",
   "pygments_lexer": "ipython3",
   "version": "3.5.2"
  }
 },
 "nbformat": 4,
 "nbformat_minor": 2
}
