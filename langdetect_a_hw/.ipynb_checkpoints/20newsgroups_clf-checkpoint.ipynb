{
 "cells": [
  {
   "cell_type": "markdown",
   "metadata": {},
   "source": [
    "## Классификация текстов (mini_newsgroups) по тематикам ##"
   ]
  },
  {
   "cell_type": "code",
   "execution_count": 24,
   "metadata": {
    "collapsed": true
   },
   "outputs": [],
   "source": [
    "import os\n",
    "import re\n",
    "from pprint import pprint"
   ]
  },
  {
   "cell_type": "markdown",
   "metadata": {},
   "source": [
    "Готовим тексты и метки классов = темы"
   ]
  },
  {
   "cell_type": "code",
   "execution_count": 25,
   "metadata": {},
   "outputs": [
    {
     "name": "stdout",
     "output_type": "stream",
     "text": [
      "2000 files, 2000 labels\n"
     ]
    }
   ],
   "source": [
    "texts = []\n",
    "labels = []\n",
    "start_path = '/Users/evgenia/mini_newsgroups'\n",
    "for path, dirs, files in os.walk(start_path):\n",
    "    # print('where am i:', path)\n",
    "    # print('folders here:', dirs)\n",
    "    # print('files here:', files)\n",
    "    for fname in files:\n",
    "        if not fname.startswith('.'):   # чтобы игнорировать служебные файлы\n",
    "            with open(os.path.join(path, fname), encoding='cp1251') as f:\n",
    "                raw_text = f.read()\n",
    "                # наивная нормализация: оставляем только строки без двоеточий\n",
    "                text = '\\n'.join([line for line in raw_text.split('\\n') if ':' not in line and line.strip()])\n",
    "                texts.append(re.sub('[\\W\\d]+', ' ', text.lower()))\n",
    "                labels.append(path.split('/')[-1])    # осторожно, /\n",
    "print(len(texts), 'files,', len(labels), 'labels')"
   ]
  },
  {
   "cell_type": "markdown",
   "metadata": {},
   "source": [
    "Делим коллекцию на обучающую и проверочную выборки:"
   ]
  },
  {
   "cell_type": "code",
   "execution_count": 26,
   "metadata": {},
   "outputs": [
    {
     "name": "stdout",
     "output_type": "stream",
     "text": [
      "1600 400 1600 400\n"
     ]
    }
   ],
   "source": [
    "from sklearn.model_selection import train_test_split\n",
    "\n",
    "texts_train, texts_test, labels_train, labels_test = train_test_split(texts,\n",
    "                                                    labels,\n",
    "                                                    test_size=0.2)\n",
    "print(len(texts_train), len(texts_test), len(labels_train), len(labels_test))"
   ]
  },
  {
   "cell_type": "markdown",
   "metadata": {},
   "source": [
    "Строим матрицу документ-терм для обучающей выборки:"
   ]
  },
  {
   "cell_type": "code",
   "execution_count": 27,
   "metadata": {},
   "outputs": [
    {
     "name": "stdout",
     "output_type": "stream",
     "text": [
      "X_train shape: (1600, 12079)\n"
     ]
    }
   ],
   "source": [
    "from sklearn.feature_extraction.text import TfidfVectorizer\n",
    "\n",
    "vectorizer = TfidfVectorizer(ngram_range=(1, 1),\n",
    "                             stop_words='english',\n",
    "                             min_df=2,\n",
    "                             max_df=0.9)\n",
    "X_train = vectorizer.fit_transform(texts_train)\n",
    "print(\"X_train shape:\", X_train.shape)"
   ]
  },
  {
   "cell_type": "markdown",
   "metadata": {},
   "source": [
    "Применяем тот же векторайзер для тест-сета:"
   ]
  },
  {
   "cell_type": "code",
   "execution_count": 28,
   "metadata": {},
   "outputs": [
    {
     "name": "stdout",
     "output_type": "stream",
     "text": [
      "X_test shape: (400, 12079)\n"
     ]
    }
   ],
   "source": [
    "X_test = vectorizer.transform(texts_test)\n",
    "print(\"X_test shape:\", X_test.shape)"
   ]
  },
  {
   "cell_type": "markdown",
   "metadata": {},
   "source": [
    "Создадим классификатор, например, Naive_Bayes:\n",
    "\n",
    "http://scikit-learn.org/stable/modules/naive_bayes.html\n",
    "\n",
    "http://scikit-learn.org/stable/modules/generated/sklearn.naive_bayes.MultinomialNB.html#sklearn.naive_bayes.MultinomialNB"
   ]
  },
  {
   "cell_type": "code",
   "execution_count": 29,
   "metadata": {
    "collapsed": true
   },
   "outputs": [],
   "source": [
    "from sklearn.naive_bayes import MultinomialNB\n",
    "clf = MultinomialNB()    # сейчас — с дефолтными параметрами"
   ]
  },
  {
   "cell_type": "markdown",
   "metadata": {},
   "source": [
    "Обучаем на training set:"
   ]
  },
  {
   "cell_type": "code",
   "execution_count": 30,
   "metadata": {},
   "outputs": [
    {
     "data": {
      "text/plain": [
       "MultinomialNB(alpha=1.0, class_prior=None, fit_prior=True)"
      ]
     },
     "execution_count": 30,
     "metadata": {},
     "output_type": "execute_result"
    }
   ],
   "source": [
    "clf.fit(X_train, labels_train)"
   ]
  },
  {
   "cell_type": "markdown",
   "metadata": {},
   "source": [
    "Предсказываем для проверочной выборки:"
   ]
  },
  {
   "cell_type": "code",
   "execution_count": 31,
   "metadata": {},
   "outputs": [
    {
     "data": {
      "text/plain": [
       "400"
      ]
     },
     "execution_count": 31,
     "metadata": {},
     "output_type": "execute_result"
    }
   ],
   "source": [
    "labels_pred = clf.predict(X_test)\n",
    "len(labels_pred)"
   ]
  },
  {
   "cell_type": "markdown",
   "metadata": {},
   "source": [
    "Оценим точность, полноту, F-меру: для этого надо сравнить список предсказанных ответов и список правильных ответов. Classification_report выдаст точность, полноту, F-меру для каждого класса, а также укажет, на каком количестве текстов была произведена оценка.\n",
    "\n",
    "http://scikit-learn.org/stable/modules/model_evaluation.html\n",
    "\n",
    "http://scikit-learn.org/stable/modules/classes.html#module-sklearn.metrics\n",
    "\n",
    "http://scikit-learn.org/stable/modules/generated/sklearn.metrics.classification_report.html"
   ]
  },
  {
   "cell_type": "code",
   "execution_count": 34,
   "metadata": {},
   "outputs": [
    {
     "name": "stdout",
     "output_type": "stream",
     "text": [
      "                          precision    recall  f1-score   support\n",
      "\n",
      "             alt.atheism       0.88      0.37      0.52        19\n",
      "           comp.graphics       0.62      0.68      0.65        19\n",
      " comp.os.ms-windows.misc       0.60      0.48      0.53        25\n",
      "comp.sys.ibm.pc.hardware       0.40      0.67      0.50        18\n",
      "   comp.sys.mac.hardware       0.54      0.78      0.64        18\n",
      "          comp.windows.x       0.67      0.60      0.63        20\n",
      "            misc.forsale       1.00      0.58      0.73        26\n",
      "               rec.autos       0.76      0.52      0.62        25\n",
      "         rec.motorcycles       0.73      0.94      0.82        17\n",
      "      rec.sport.baseball       0.75      0.79      0.77        19\n",
      "        rec.sport.hockey       0.91      1.00      0.95        20\n",
      "               sci.crypt       1.00      0.74      0.85        23\n",
      "         sci.electronics       0.58      0.39      0.47        18\n",
      "                 sci.med       1.00      0.83      0.91        24\n",
      "               sci.space       0.90      0.76      0.83        25\n",
      "  soc.religion.christian       0.62      0.94      0.74        17\n",
      "      talk.politics.guns       0.74      0.81      0.77        21\n",
      "   talk.politics.mideast       1.00      0.94      0.97        16\n",
      "      talk.politics.misc       0.35      0.60      0.44        15\n",
      "      talk.religion.misc       0.48      0.67      0.56        15\n",
      "\n",
      "             avg / total       0.74      0.70      0.70       400\n",
      "\n"
     ]
    }
   ],
   "source": [
    "from sklearn.metrics import classification_report\n",
    "\n",
    "print(classification_report(y_pred=labels_pred, y_true=labels_test))"
   ]
  },
  {
   "cell_type": "code",
   "execution_count": null,
   "metadata": {
    "collapsed": true
   },
   "outputs": [],
   "source": []
  }
 ],
 "metadata": {
  "kernelspec": {
   "display_name": "Python 3",
   "language": "python",
   "name": "python3"
  },
  "language_info": {
   "codemirror_mode": {
    "name": "ipython",
    "version": 3
   },
   "file_extension": ".py",
   "mimetype": "text/x-python",
   "name": "python",
   "nbconvert_exporter": "python",
   "pygments_lexer": "ipython3",
   "version": "3.5.2"
  }
 },
 "nbformat": 4,
 "nbformat_minor": 2
}
